{
 "cells": [
  {
   "cell_type": "code",
   "execution_count": 170,
   "metadata": {},
   "outputs": [],
   "source": [
    "import pandas as pd\n",
    "import numpy as np\n",
    "import matplotlib.pyplot as plt\n",
    "from sklearn.preprocessing import LabelEncoder, OneHotEncoder\n",
    "from scipy import *"
   ]
  },
  {
   "cell_type": "code",
   "execution_count": 171,
   "metadata": {},
   "outputs": [
    {
     "data": {
      "text/html": [
       "<div>\n",
       "<style scoped>\n",
       "    .dataframe tbody tr th:only-of-type {\n",
       "        vertical-align: middle;\n",
       "    }\n",
       "\n",
       "    .dataframe tbody tr th {\n",
       "        vertical-align: top;\n",
       "    }\n",
       "\n",
       "    .dataframe thead th {\n",
       "        text-align: right;\n",
       "    }\n",
       "</style>\n",
       "<table border=\"1\" class=\"dataframe\">\n",
       "  <thead>\n",
       "    <tr style=\"text-align: right;\">\n",
       "      <th></th>\n",
       "      <th>Customer ID</th>\n",
       "      <th>Age</th>\n",
       "      <th>Income (in $K)</th>\n",
       "      <th>Spending Score (1-100)</th>\n",
       "      <th>Gender</th>\n",
       "      <th>Married</th>\n",
       "      <th>Children</th>\n",
       "      <th>Promotion Response</th>\n",
       "      <th>Buy or Not Buy</th>\n",
       "      <th>Product Category Preference</th>\n",
       "    </tr>\n",
       "  </thead>\n",
       "  <tbody>\n",
       "    <tr>\n",
       "      <th>0</th>\n",
       "      <td>1</td>\n",
       "      <td>56</td>\n",
       "      <td>54</td>\n",
       "      <td>70</td>\n",
       "      <td>Female</td>\n",
       "      <td>No</td>\n",
       "      <td>0</td>\n",
       "      <td>Yes</td>\n",
       "      <td>Buy</td>\n",
       "      <td>Home Appliances</td>\n",
       "    </tr>\n",
       "    <tr>\n",
       "      <th>1</th>\n",
       "      <td>2</td>\n",
       "      <td>46</td>\n",
       "      <td>97</td>\n",
       "      <td>97</td>\n",
       "      <td>Female</td>\n",
       "      <td>No</td>\n",
       "      <td>0</td>\n",
       "      <td>No</td>\n",
       "      <td>Buy</td>\n",
       "      <td>Cosmetics</td>\n",
       "    </tr>\n",
       "    <tr>\n",
       "      <th>2</th>\n",
       "      <td>3</td>\n",
       "      <td>32</td>\n",
       "      <td>90</td>\n",
       "      <td>55</td>\n",
       "      <td>Female</td>\n",
       "      <td>No</td>\n",
       "      <td>2</td>\n",
       "      <td>Yes</td>\n",
       "      <td>Buy</td>\n",
       "      <td>Cosmetics</td>\n",
       "    </tr>\n",
       "    <tr>\n",
       "      <th>3</th>\n",
       "      <td>4</td>\n",
       "      <td>60</td>\n",
       "      <td>58</td>\n",
       "      <td>1</td>\n",
       "      <td>Male</td>\n",
       "      <td>No</td>\n",
       "      <td>0</td>\n",
       "      <td>Yes</td>\n",
       "      <td>Not Buy</td>\n",
       "      <td>Apparel</td>\n",
       "    </tr>\n",
       "    <tr>\n",
       "      <th>4</th>\n",
       "      <td>5</td>\n",
       "      <td>25</td>\n",
       "      <td>48</td>\n",
       "      <td>70</td>\n",
       "      <td>Female</td>\n",
       "      <td>No</td>\n",
       "      <td>3</td>\n",
       "      <td>No</td>\n",
       "      <td>Not Buy</td>\n",
       "      <td>Apparel</td>\n",
       "    </tr>\n",
       "  </tbody>\n",
       "</table>\n",
       "</div>"
      ],
      "text/plain": [
       "   Customer ID  Age  Income (in $K)  Spending Score (1-100)  Gender Married  \\\n",
       "0            1   56              54                      70  Female      No   \n",
       "1            2   46              97                      97  Female      No   \n",
       "2            3   32              90                      55  Female      No   \n",
       "3            4   60              58                       1    Male      No   \n",
       "4            5   25              48                      70  Female      No   \n",
       "\n",
       "   Children Promotion Response Buy or Not Buy Product Category Preference  \n",
       "0         0                Yes            Buy             Home Appliances  \n",
       "1         0                 No            Buy                   Cosmetics  \n",
       "2         2                Yes            Buy                   Cosmetics  \n",
       "3         0                Yes        Not Buy                     Apparel  \n",
       "4         3                 No        Not Buy                     Apparel  "
      ]
     },
     "execution_count": 171,
     "metadata": {},
     "output_type": "execute_result"
    }
   ],
   "source": [
    "data=pd.read_excel(\"Marketing_Campaign_Data_5000.xlsx\")\n",
    "data=pd.DataFrame(data)\n",
    "data.head()\n"
   ]
  },
  {
   "cell_type": "code",
   "execution_count": 172,
   "metadata": {},
   "outputs": [
    {
     "data": {
      "text/plain": [
       "array([[56, 54, 70, ..., 'Yes', 'Buy', 'Home Appliances'],\n",
       "       [46, 97, 97, ..., 'No', 'Buy', 'Cosmetics'],\n",
       "       [32, 90, 55, ..., 'Yes', 'Buy', 'Cosmetics'],\n",
       "       ...,\n",
       "       [38, 67, 29, ..., 'Yes', 'Not Buy', 'Cosmetics'],\n",
       "       [27, 32, 78, ..., 'No', 'Buy', 'Apparel'],\n",
       "       [36, 113, 4, ..., 'No', 'Not Buy', 'Electronics']], dtype=object)"
      ]
     },
     "execution_count": 172,
     "metadata": {},
     "output_type": "execute_result"
    }
   ],
   "source": [
    "# remove the customer ID as it add nothing to the analysis\n",
    "data=data.drop(columns=['Customer ID'])\n",
    "data=data.iloc[:,:].values\n",
    "data"
   ]
  },
  {
   "cell_type": "code",
   "execution_count": 173,
   "metadata": {},
   "outputs": [
    {
     "name": "stdout",
     "output_type": "stream",
     "text": [
      "{'Female': np.int64(0), 'Male': np.int64(1)}\n"
     ]
    }
   ],
   "source": [
    "#encode catagory variables\n",
    "labelencoder=LabelEncoder()\n",
    "#encoding gender \n",
    "data[:,3]=labelencoder.fit_transform(data[:,3])\n",
    "#female=0, male=1\n",
    "category_mapping = dict(zip(labelencoder.classes_, labelencoder.transform(labelencoder.classes_)))\n",
    "print(category_mapping)"
   ]
  },
  {
   "cell_type": "code",
   "execution_count": 174,
   "metadata": {},
   "outputs": [
    {
     "name": "stdout",
     "output_type": "stream",
     "text": [
      "{'No': np.int64(0), 'Yes': np.int64(1)}\n"
     ]
    }
   ],
   "source": [
    "#encode martial status\n",
    "data[:,4]=labelencoder.fit_transform(data[:,4])\n",
    "#married=1, notmarried=0\n",
    "category_mapping = dict(zip(labelencoder.classes_, labelencoder.transform(labelencoder.classes_)))\n",
    "print(category_mapping)"
   ]
  },
  {
   "cell_type": "code",
   "execution_count": 175,
   "metadata": {},
   "outputs": [
    {
     "name": "stdout",
     "output_type": "stream",
     "text": [
      "{'No': np.int64(0), 'Yes': np.int64(1)}\n"
     ]
    }
   ],
   "source": [
    "#encode promotion response \n",
    "data[:,6]=labelencoder.fit_transform(data[:,6])\n",
    "#no=0,yes=1\n",
    "category_mapping = dict(zip(labelencoder.classes_, labelencoder.transform(labelencoder.classes_)))\n",
    "print(category_mapping)"
   ]
  },
  {
   "cell_type": "code",
   "execution_count": 176,
   "metadata": {},
   "outputs": [
    {
     "name": "stdout",
     "output_type": "stream",
     "text": [
      "{'Buy': np.int64(0), 'Not Buy': np.int64(1)}\n"
     ]
    }
   ],
   "source": [
    "#encode buy or not buy\n",
    "data[:,7]=labelencoder.fit_transform(data[:,7])\n",
    "#buy=0, not buy=1\n",
    "category_mapping = dict(zip(labelencoder.classes_, labelencoder.transform(labelencoder.classes_)))\n",
    "print(category_mapping)"
   ]
  },
  {
   "cell_type": "code",
   "execution_count": 177,
   "metadata": {},
   "outputs": [
    {
     "name": "stdout",
     "output_type": "stream",
     "text": [
      "{'Apparel': np.int64(0), 'Cosmetics': np.int64(1), 'Electronics': np.int64(2), 'Home Appliances': np.int64(3)}\n"
     ]
    }
   ],
   "source": [
    "#encode product catagory preferences\n",
    "data[:,8]=labelencoder.fit_transform(data[:,8])\n",
    "\n",
    "category_mapping = dict(zip(labelencoder.classes_, labelencoder.transform(labelencoder.classes_)))\n",
    "print(category_mapping)"
   ]
  },
  {
   "cell_type": "code",
   "execution_count": 178,
   "metadata": {},
   "outputs": [
    {
     "data": {
      "text/html": [
       "<div>\n",
       "<style scoped>\n",
       "    .dataframe tbody tr th:only-of-type {\n",
       "        vertical-align: middle;\n",
       "    }\n",
       "\n",
       "    .dataframe tbody tr th {\n",
       "        vertical-align: top;\n",
       "    }\n",
       "\n",
       "    .dataframe thead th {\n",
       "        text-align: right;\n",
       "    }\n",
       "</style>\n",
       "<table border=\"1\" class=\"dataframe\">\n",
       "  <thead>\n",
       "    <tr style=\"text-align: right;\">\n",
       "      <th></th>\n",
       "      <th>Age</th>\n",
       "      <th>Income (in $K)</th>\n",
       "      <th>Spending Score (1-100)</th>\n",
       "      <th>Gender</th>\n",
       "      <th>Married</th>\n",
       "      <th>Children</th>\n",
       "      <th>Promotion Response</th>\n",
       "      <th>Buy or Not Buy</th>\n",
       "      <th>Product Category Preference</th>\n",
       "    </tr>\n",
       "  </thead>\n",
       "  <tbody>\n",
       "    <tr>\n",
       "      <th>0</th>\n",
       "      <td>56</td>\n",
       "      <td>54</td>\n",
       "      <td>70</td>\n",
       "      <td>0</td>\n",
       "      <td>0</td>\n",
       "      <td>0</td>\n",
       "      <td>1</td>\n",
       "      <td>0</td>\n",
       "      <td>3</td>\n",
       "    </tr>\n",
       "    <tr>\n",
       "      <th>1</th>\n",
       "      <td>46</td>\n",
       "      <td>97</td>\n",
       "      <td>97</td>\n",
       "      <td>0</td>\n",
       "      <td>0</td>\n",
       "      <td>0</td>\n",
       "      <td>0</td>\n",
       "      <td>0</td>\n",
       "      <td>1</td>\n",
       "    </tr>\n",
       "    <tr>\n",
       "      <th>2</th>\n",
       "      <td>32</td>\n",
       "      <td>90</td>\n",
       "      <td>55</td>\n",
       "      <td>0</td>\n",
       "      <td>0</td>\n",
       "      <td>2</td>\n",
       "      <td>1</td>\n",
       "      <td>0</td>\n",
       "      <td>1</td>\n",
       "    </tr>\n",
       "    <tr>\n",
       "      <th>3</th>\n",
       "      <td>60</td>\n",
       "      <td>58</td>\n",
       "      <td>1</td>\n",
       "      <td>1</td>\n",
       "      <td>0</td>\n",
       "      <td>0</td>\n",
       "      <td>1</td>\n",
       "      <td>1</td>\n",
       "      <td>0</td>\n",
       "    </tr>\n",
       "    <tr>\n",
       "      <th>4</th>\n",
       "      <td>25</td>\n",
       "      <td>48</td>\n",
       "      <td>70</td>\n",
       "      <td>0</td>\n",
       "      <td>0</td>\n",
       "      <td>3</td>\n",
       "      <td>0</td>\n",
       "      <td>1</td>\n",
       "      <td>0</td>\n",
       "    </tr>\n",
       "  </tbody>\n",
       "</table>\n",
       "</div>"
      ],
      "text/plain": [
       "  Age Income (in $K) Spending Score (1-100) Gender Married Children  \\\n",
       "0  56             54                     70      0       0        0   \n",
       "1  46             97                     97      0       0        0   \n",
       "2  32             90                     55      0       0        2   \n",
       "3  60             58                      1      1       0        0   \n",
       "4  25             48                     70      0       0        3   \n",
       "\n",
       "  Promotion Response Buy or Not Buy Product Category Preference  \n",
       "0                  1              0                           3  \n",
       "1                  0              0                           1  \n",
       "2                  1              0                           1  \n",
       "3                  1              1                           0  \n",
       "4                  0              1                           0  "
      ]
     },
     "execution_count": 178,
     "metadata": {},
     "output_type": "execute_result"
    }
   ],
   "source": [
    "df=pd.DataFrame(data,columns=[ 'Age', 'Income (in $K)', 'Spending Score (1-100)',\n",
    "       'Gender', 'Married', 'Children', 'Promotion Response', 'Buy or Not Buy',\n",
    "       'Product Category Preference'])\n",
    "\n",
    "df.head()"
   ]
  },
  {
   "cell_type": "markdown",
   "metadata": {},
   "source": [
    "# Individual trait analysis for Income, age, martial status and spending score"
   ]
  },
  {
   "cell_type": "markdown",
   "metadata": {},
   "source": [
    "# Martial Status"
   ]
  },
  {
   "cell_type": "code",
   "execution_count": 179,
   "metadata": {},
   "outputs": [
    {
     "data": {
      "image/png": "[encoded data removed]",
      "text/plain": [
       "<Figure size 640x480 with 1 Axes>"
      ]
     },
     "metadata": {},
     "output_type": "display_data"
    }
   ],
   "source": [
    "\n",
    "# Extract the 'martial_status' column\n",
    "martial_status = data[:, 4]\n",
    "\n",
    "# Convert to a pandas Series for easier counting\n",
    "martial_status_series = pd.Series(martial_status)\n",
    "\n",
    "# Count the occurrences of each unique value\n",
    "martial_status_counts = martial_status_series.value_counts()\n",
    "\n",
    "# Calculate the proportions\n",
    "martial_status_proportions = martial_status_counts / martial_status_counts.sum()\n",
    "\n",
    "# Create a mapping for the encoded values to \"Yes\" and \"No\"\n",
    "category_mapping = {0: 'No', 1: 'Yes'}\n",
    "\n",
    "# Map the encoded values to \"Yes\" and \"No\"\n",
    "martial_status_proportions.index = martial_status_proportions.index.map(category_mapping)\n",
    "\n",
    "# Define colors for each category\n",
    "colors = ['red' if x == 'No' else 'blue' for x in martial_status_proportions.index]\n",
    "\n",
    "# Plot the bar graph\n",
    "plt.bar(martial_status_proportions.index, martial_status_proportions.values, color=colors, label=\"Proportion of Martial Status\")\n",
    "plt.xlabel('Martial Status')\n",
    "plt.ylabel('Percentage')\n",
    "plt.title(label='Bar Graph for the proportion Married and Unmarried people')\n",
    "plt.show()"
   ]
  },
  {
   "cell_type": "markdown",
   "metadata": {},
   "source": [
    "# Spending Score Distribution"
   ]
  },
  {
   "cell_type": "code",
   "execution_count": 180,
   "metadata": {},
   "outputs": [
    {
     "data": {
      "image/png": "[encoded data removed]",
      "text/plain": [
       "<Figure size 640x480 with 1 Axes>"
      ]
     },
     "metadata": {},
     "output_type": "display_data"
    }
   ],
   "source": [
    "spending_score = data[:, 2]  \n",
    "spending_score_series = pd.Series(spending_score)\n",
    "\n",
    "plt.hist(spending_score_series, edgecolor='black', alpha=0.7)\n",
    "plt.xlabel('Spending Score')\n",
    "plt.ylabel('Frequency')\n",
    "plt.title('Histogram of Spending Score')\n",
    "plt.show()"
   ]
  },
  {
   "cell_type": "markdown",
   "metadata": {},
   "source": [
    "# Income Distribution"
   ]
  },
  {
   "cell_type": "code",
   "execution_count": 181,
   "metadata": {},
   "outputs": [
    {
     "data": {
      "image/png": "[encoded data removed]",
      "text/plain": [
       "<Figure size 640x480 with 1 Axes>"
      ]
     },
     "metadata": {},
     "output_type": "display_data"
    }
   ],
   "source": [
    "income=data[:,1]\n",
    "\n",
    "income=pd.Series(income)\n",
    "\n",
    "plt.hist(income, edgecolor='black', alpha=0.7)\n",
    "plt.xlabel('Income')\n",
    "plt.ylabel('Frequency')\n",
    "plt.title('Histogram of Income')\n",
    "plt.show()"
   ]
  },
  {
   "cell_type": "markdown",
   "metadata": {},
   "source": [
    "# Age Distibution"
   ]
  },
  {
   "cell_type": "code",
   "execution_count": 182,
   "metadata": {},
   "outputs": [
    {
     "data": {
      "image/png": "[encoded data removed]",
      "text/plain": [
       "<Figure size 640x480 with 1 Axes>"
      ]
     },
     "metadata": {},
     "output_type": "display_data"
    }
   ],
   "source": [
    "# Extract the 'age' column (replace 0 with the actual index of the 'age' column if needed)\n",
    "age = data[:, 0]  # Assuming 'data' is a NumPy array and 'age' is at index 0\n",
    "\n",
    "# Convert to a pandas Series for easier plotting\n",
    "age_series = pd.Series(age)\n",
    "\n",
    "# Plot the histogram\n",
    "plt.hist(age_series, bins=10, edgecolor='black', alpha=0.7)\n",
    "plt.xlabel('Age')\n",
    "plt.ylabel('Frequency')\n",
    "plt.title('Histogram of Age')\n",
    "plt.show()"
   ]
  },
  {
   "cell_type": "markdown",
   "metadata": {},
   "source": [
    "# Gender"
   ]
  },
  {
   "cell_type": "code",
   "execution_count": 183,
   "metadata": {},
   "outputs": [
    {
     "data": {
      "image/png": "[encoded data removed]",
      "text/plain": [
       "<Figure size 640x480 with 1 Axes>"
      ]
     },
     "metadata": {},
     "output_type": "display_data"
    }
   ],
   "source": [
    "\n",
    "\n",
    "# Assuming 'data' is a NumPy array loaded from your dataset\n",
    "# Extract the 'gender' column\n",
    "gender = data[:, 4]  # Replace 4 with the actual index of the 'gender' column if needed\n",
    "\n",
    "# Convert to a pandas Series for easier counting\n",
    "gender_series = pd.Series(gender)\n",
    "\n",
    "# Count the occurrences of each unique value\n",
    "gender_counts = gender_series.value_counts()\n",
    "\n",
    "# Calculate the proportions\n",
    "gender_proportions = gender_counts / gender_counts.sum()\n",
    "\n",
    "# Create a mapping for the encoded values to \"Male\" and \"Female\"\n",
    "category_mapping = {0: 'Female', 1: 'Male'}  # Adjust the mapping according to your dataset\n",
    "\n",
    "# Map the encoded values to \"Male\" and \"Female\"\n",
    "gender_proportions.index = gender_proportions.index.map(category_mapping)\n",
    "\n",
    "# Define colors for each category\n",
    "colors = ['blue' if x == 'Male' else 'pink' for x in gender_proportions.index]\n",
    "\n",
    "# Plot the bar graph\n",
    "plt.bar(gender_proportions.index, gender_proportions.values, color=colors, label=\"Proportion of Gender\")\n",
    "plt.xlabel('Gender')\n",
    "plt.ylabel('Percentage')\n",
    "plt.title('Bar Graph for the Proportion of Male and Female')\n",
    "plt.show()"
   ]
  }
 ],
 "metadata": {
  "kernelspec": {
   "display_name": "Python 3",
   "language": "python",
   "name": "python3"
  },
  "language_info": {
   "codemirror_mode": {
    "name": "ipython",
    "version": 3
   },
   "file_extension": ".py",
   "mimetype": "text/x-python",
   "name": "python",
   "nbconvert_exporter": "python",
   "pygments_lexer": "ipython3",
   "version": "3.11.9"
  }
 },
 "nbformat": 4,
 "nbformat_minor": 2
}
